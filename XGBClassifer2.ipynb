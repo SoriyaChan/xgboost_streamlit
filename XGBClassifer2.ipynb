{
 "cells": [
  {
   "cell_type": "markdown",
   "id": "387ea7e8-9230-4595-b5bc-826e897f0814",
   "metadata": {},
   "source": [
    "# Import"
   ]
  },
  {
   "cell_type": "code",
   "execution_count": 38,
   "id": "5c36ee07-66ec-405a-bd9c-c408775fd0d0",
   "metadata": {},
   "outputs": [],
   "source": [
    "import pandas as pd\n",
    "import numpy as np\n",
    "import xgboost as xgb\n",
    "from sklearn.model_selection import train_test_split, StratifiedKFold, cross_val_score, GridSearchCV\n",
    "from sklearn.pipeline import Pipeline\n",
    "from sklearn.compose import ColumnTransformer\n",
    "from sklearn.preprocessing import OneHotEncoder, StandardScaler, LabelEncoder\n",
    "from sklearn.tree import DecisionTreeClassifier\n",
    "from sklearn.ensemble import RandomForestClassifier, AdaBoostClassifier, GradientBoostingClassifier\n",
    "from sklearn.metrics import confusion_matrix, ConfusionMatrixDisplay\n",
    "import matplotlib.pyplot as plt\n",
    "from sklearn.metrics import accuracy_score, precision_score, recall_score, f1_score\n",
    "import joblib"
   ]
  },
  {
   "cell_type": "markdown",
   "id": "ab41415a-929d-42be-87ef-4826c7fa1509",
   "metadata": {},
   "source": [
    "# Data"
   ]
  },
  {
   "cell_type": "code",
   "execution_count": 39,
   "id": "888c3d78-1f9f-4d23-8bb8-b19f9a5d7cd9",
   "metadata": {},
   "outputs": [],
   "source": [
    "path = \"dataset/train.csv\"\n",
    "df_train = pd.read_csv(path)\n",
    "\n",
    "path = \"dataset/test.csv\"\n",
    "df_test = pd.read_csv(path)"
   ]
  },
  {
   "cell_type": "code",
   "execution_count": 40,
   "id": "62148803-84a1-46a9-9b65-e189167f2072",
   "metadata": {},
   "outputs": [
    {
     "name": "stdout",
     "output_type": "stream",
     "text": [
      "<class 'pandas.core.frame.DataFrame'>\n",
      "RangeIndex: 45211 entries, 0 to 45210\n",
      "Data columns (total 17 columns):\n",
      " #   Column     Non-Null Count  Dtype \n",
      "---  ------     --------------  ----- \n",
      " 0   age        45211 non-null  int64 \n",
      " 1   job        45211 non-null  object\n",
      " 2   marital    45211 non-null  object\n",
      " 3   education  45211 non-null  object\n",
      " 4   default    45211 non-null  object\n",
      " 5   balance    45211 non-null  int64 \n",
      " 6   housing    45211 non-null  object\n",
      " 7   loan       45211 non-null  object\n",
      " 8   contact    45211 non-null  object\n",
      " 9   day        45211 non-null  int64 \n",
      " 10  month      45211 non-null  object\n",
      " 11  duration   45211 non-null  int64 \n",
      " 12  campaign   45211 non-null  int64 \n",
      " 13  pdays      45211 non-null  int64 \n",
      " 14  previous   45211 non-null  int64 \n",
      " 15  poutcome   45211 non-null  object\n",
      " 16  y          45211 non-null  object\n",
      "dtypes: int64(7), object(10)\n",
      "memory usage: 5.9+ MB\n",
      "<class 'pandas.core.frame.DataFrame'>\n",
      "RangeIndex: 4521 entries, 0 to 4520\n",
      "Data columns (total 17 columns):\n",
      " #   Column     Non-Null Count  Dtype \n",
      "---  ------     --------------  ----- \n",
      " 0   age        4521 non-null   int64 \n",
      " 1   job        4521 non-null   object\n",
      " 2   marital    4521 non-null   object\n",
      " 3   education  4521 non-null   object\n",
      " 4   default    4521 non-null   object\n",
      " 5   balance    4521 non-null   int64 \n",
      " 6   housing    4521 non-null   object\n",
      " 7   loan       4521 non-null   object\n",
      " 8   contact    4521 non-null   object\n",
      " 9   day        4521 non-null   int64 \n",
      " 10  month      4521 non-null   object\n",
      " 11  duration   4521 non-null   int64 \n",
      " 12  campaign   4521 non-null   int64 \n",
      " 13  pdays      4521 non-null   int64 \n",
      " 14  previous   4521 non-null   int64 \n",
      " 15  poutcome   4521 non-null   object\n",
      " 16  y          4521 non-null   object\n",
      "dtypes: int64(7), object(10)\n",
      "memory usage: 600.6+ KB\n"
     ]
    }
   ],
   "source": [
    "df_train.info()\n",
    "df_test.info()"
   ]
  },
  {
   "cell_type": "code",
   "execution_count": 41,
   "id": "52403b1c-1e06-41ee-a02c-84b8f9656e02",
   "metadata": {},
   "outputs": [
    {
     "name": "stdout",
     "output_type": "stream",
     "text": [
      "       age           job   marital  education default  balance housing loan  \\\n",
      "0       58    management   married   tertiary      no     2143     yes   no   \n",
      "1       44    technician    single  secondary      no       29     yes   no   \n",
      "2       33  entrepreneur   married  secondary      no        2     yes  yes   \n",
      "3       47   blue-collar   married    unknown      no     1506     yes   no   \n",
      "4       33       unknown    single    unknown      no        1      no   no   \n",
      "...    ...           ...       ...        ...     ...      ...     ...  ...   \n",
      "45206   51    technician   married   tertiary      no      825      no   no   \n",
      "45207   71       retired  divorced    primary      no     1729      no   no   \n",
      "45208   72       retired   married  secondary      no     5715      no   no   \n",
      "45209   57   blue-collar   married  secondary      no      668      no   no   \n",
      "45210   37  entrepreneur   married  secondary      no     2971      no   no   \n",
      "\n",
      "         contact  day month  duration  campaign  pdays  previous poutcome    y  \n",
      "0        unknown    5   may       261         1     -1         0  unknown   no  \n",
      "1        unknown    5   may       151         1     -1         0  unknown   no  \n",
      "2        unknown    5   may        76         1     -1         0  unknown   no  \n",
      "3        unknown    5   may        92         1     -1         0  unknown   no  \n",
      "4        unknown    5   may       198         1     -1         0  unknown   no  \n",
      "...          ...  ...   ...       ...       ...    ...       ...      ...  ...  \n",
      "45206   cellular   17   nov       977         3     -1         0  unknown  yes  \n",
      "45207   cellular   17   nov       456         2     -1         0  unknown  yes  \n",
      "45208   cellular   17   nov      1127         5    184         3  success  yes  \n",
      "45209  telephone   17   nov       508         4     -1         0  unknown   no  \n",
      "45210   cellular   17   nov       361         2    188        11    other   no  \n",
      "\n",
      "[45211 rows x 17 columns]\n",
      "      age            job  marital  education default  balance housing loan  \\\n",
      "0      30     unemployed  married    primary      no     1787      no   no   \n",
      "1      33       services  married  secondary      no     4789     yes  yes   \n",
      "2      35     management   single   tertiary      no     1350     yes   no   \n",
      "3      30     management  married   tertiary      no     1476     yes  yes   \n",
      "4      59    blue-collar  married  secondary      no        0     yes   no   \n",
      "...   ...            ...      ...        ...     ...      ...     ...  ...   \n",
      "4516   33       services  married  secondary      no     -333     yes   no   \n",
      "4517   57  self-employed  married   tertiary     yes    -3313     yes  yes   \n",
      "4518   57     technician  married  secondary      no      295      no   no   \n",
      "4519   28    blue-collar  married  secondary      no     1137      no   no   \n",
      "4520   44   entrepreneur   single   tertiary      no     1136     yes  yes   \n",
      "\n",
      "       contact  day month  duration  campaign  pdays  previous poutcome   y  \n",
      "0     cellular   19   oct        79         1     -1         0  unknown  no  \n",
      "1     cellular   11   may       220         1    339         4  failure  no  \n",
      "2     cellular   16   apr       185         1    330         1  failure  no  \n",
      "3      unknown    3   jun       199         4     -1         0  unknown  no  \n",
      "4      unknown    5   may       226         1     -1         0  unknown  no  \n",
      "...        ...  ...   ...       ...       ...    ...       ...      ...  ..  \n",
      "4516  cellular   30   jul       329         5     -1         0  unknown  no  \n",
      "4517   unknown    9   may       153         1     -1         0  unknown  no  \n",
      "4518  cellular   19   aug       151        11     -1         0  unknown  no  \n",
      "4519  cellular    6   feb       129         4    211         3    other  no  \n",
      "4520  cellular    3   apr       345         2    249         7    other  no  \n",
      "\n",
      "[4521 rows x 17 columns]\n"
     ]
    }
   ],
   "source": [
    "print(df_train)\n",
    "print(df_test)"
   ]
  },
  {
   "cell_type": "code",
   "execution_count": 42,
   "id": "19419c4a-51bd-45e0-9c44-00f70d34ea15",
   "metadata": {},
   "outputs": [
    {
     "name": "stdout",
     "output_type": "stream",
     "text": [
      "0\n"
     ]
    }
   ],
   "source": [
    "# Check Duplication row in training data\n",
    "print(df_train.duplicated().sum())"
   ]
  },
  {
   "cell_type": "code",
   "execution_count": 43,
   "id": "e49001a2-c0e2-44d8-af82-e9b57a208065",
   "metadata": {},
   "outputs": [
    {
     "data": {
      "text/html": [
       "<div>\n",
       "<style scoped>\n",
       "    .dataframe tbody tr th:only-of-type {\n",
       "        vertical-align: middle;\n",
       "    }\n",
       "\n",
       "    .dataframe tbody tr th {\n",
       "        vertical-align: top;\n",
       "    }\n",
       "\n",
       "    .dataframe thead th {\n",
       "        text-align: right;\n",
       "    }\n",
       "</style>\n",
       "<table border=\"1\" class=\"dataframe\">\n",
       "  <thead>\n",
       "    <tr style=\"text-align: right;\">\n",
       "      <th></th>\n",
       "      <th>age</th>\n",
       "      <th>job</th>\n",
       "      <th>marital</th>\n",
       "      <th>education</th>\n",
       "      <th>default</th>\n",
       "      <th>balance</th>\n",
       "      <th>housing</th>\n",
       "      <th>loan</th>\n",
       "      <th>contact</th>\n",
       "      <th>day</th>\n",
       "      <th>month</th>\n",
       "      <th>duration</th>\n",
       "      <th>campaign</th>\n",
       "      <th>pdays</th>\n",
       "      <th>previous</th>\n",
       "      <th>poutcome</th>\n",
       "      <th>y</th>\n",
       "    </tr>\n",
       "  </thead>\n",
       "  <tbody>\n",
       "    <tr>\n",
       "      <th>0</th>\n",
       "      <td>42</td>\n",
       "      <td>entrepreneur</td>\n",
       "      <td>divorced</td>\n",
       "      <td>tertiary</td>\n",
       "      <td>yes</td>\n",
       "      <td>2</td>\n",
       "      <td>yes</td>\n",
       "      <td>no</td>\n",
       "      <td>unknown</td>\n",
       "      <td>5</td>\n",
       "      <td>may</td>\n",
       "      <td>380</td>\n",
       "      <td>1</td>\n",
       "      <td>-1</td>\n",
       "      <td>0</td>\n",
       "      <td>unknown</td>\n",
       "      <td>no</td>\n",
       "    </tr>\n",
       "    <tr>\n",
       "      <th>1</th>\n",
       "      <td>43</td>\n",
       "      <td>technician</td>\n",
       "      <td>single</td>\n",
       "      <td>secondary</td>\n",
       "      <td>no</td>\n",
       "      <td>593</td>\n",
       "      <td>yes</td>\n",
       "      <td>no</td>\n",
       "      <td>unknown</td>\n",
       "      <td>5</td>\n",
       "      <td>may</td>\n",
       "      <td>55</td>\n",
       "      <td>1</td>\n",
       "      <td>-1</td>\n",
       "      <td>0</td>\n",
       "      <td>unknown</td>\n",
       "      <td>no</td>\n",
       "    </tr>\n",
       "    <tr>\n",
       "      <th>2</th>\n",
       "      <td>57</td>\n",
       "      <td>services</td>\n",
       "      <td>married</td>\n",
       "      <td>secondary</td>\n",
       "      <td>no</td>\n",
       "      <td>162</td>\n",
       "      <td>yes</td>\n",
       "      <td>no</td>\n",
       "      <td>unknown</td>\n",
       "      <td>5</td>\n",
       "      <td>may</td>\n",
       "      <td>174</td>\n",
       "      <td>1</td>\n",
       "      <td>-1</td>\n",
       "      <td>0</td>\n",
       "      <td>unknown</td>\n",
       "      <td>no</td>\n",
       "    </tr>\n",
       "    <tr>\n",
       "      <th>3</th>\n",
       "      <td>57</td>\n",
       "      <td>technician</td>\n",
       "      <td>married</td>\n",
       "      <td>secondary</td>\n",
       "      <td>no</td>\n",
       "      <td>839</td>\n",
       "      <td>no</td>\n",
       "      <td>yes</td>\n",
       "      <td>unknown</td>\n",
       "      <td>5</td>\n",
       "      <td>may</td>\n",
       "      <td>225</td>\n",
       "      <td>1</td>\n",
       "      <td>-1</td>\n",
       "      <td>0</td>\n",
       "      <td>unknown</td>\n",
       "      <td>no</td>\n",
       "    </tr>\n",
       "    <tr>\n",
       "      <th>4</th>\n",
       "      <td>59</td>\n",
       "      <td>blue-collar</td>\n",
       "      <td>married</td>\n",
       "      <td>secondary</td>\n",
       "      <td>no</td>\n",
       "      <td>0</td>\n",
       "      <td>yes</td>\n",
       "      <td>no</td>\n",
       "      <td>unknown</td>\n",
       "      <td>5</td>\n",
       "      <td>may</td>\n",
       "      <td>226</td>\n",
       "      <td>1</td>\n",
       "      <td>-1</td>\n",
       "      <td>0</td>\n",
       "      <td>unknown</td>\n",
       "      <td>no</td>\n",
       "    </tr>\n",
       "    <tr>\n",
       "      <th>...</th>\n",
       "      <td>...</td>\n",
       "      <td>...</td>\n",
       "      <td>...</td>\n",
       "      <td>...</td>\n",
       "      <td>...</td>\n",
       "      <td>...</td>\n",
       "      <td>...</td>\n",
       "      <td>...</td>\n",
       "      <td>...</td>\n",
       "      <td>...</td>\n",
       "      <td>...</td>\n",
       "      <td>...</td>\n",
       "      <td>...</td>\n",
       "      <td>...</td>\n",
       "      <td>...</td>\n",
       "      <td>...</td>\n",
       "      <td>...</td>\n",
       "    </tr>\n",
       "    <tr>\n",
       "      <th>4516</th>\n",
       "      <td>35</td>\n",
       "      <td>technician</td>\n",
       "      <td>married</td>\n",
       "      <td>secondary</td>\n",
       "      <td>no</td>\n",
       "      <td>0</td>\n",
       "      <td>yes</td>\n",
       "      <td>no</td>\n",
       "      <td>cellular</td>\n",
       "      <td>9</td>\n",
       "      <td>nov</td>\n",
       "      <td>524</td>\n",
       "      <td>1</td>\n",
       "      <td>96</td>\n",
       "      <td>5</td>\n",
       "      <td>success</td>\n",
       "      <td>yes</td>\n",
       "    </tr>\n",
       "    <tr>\n",
       "      <th>4517</th>\n",
       "      <td>36</td>\n",
       "      <td>admin.</td>\n",
       "      <td>single</td>\n",
       "      <td>tertiary</td>\n",
       "      <td>no</td>\n",
       "      <td>980</td>\n",
       "      <td>no</td>\n",
       "      <td>no</td>\n",
       "      <td>cellular</td>\n",
       "      <td>11</td>\n",
       "      <td>nov</td>\n",
       "      <td>118</td>\n",
       "      <td>4</td>\n",
       "      <td>104</td>\n",
       "      <td>7</td>\n",
       "      <td>failure</td>\n",
       "      <td>no</td>\n",
       "    </tr>\n",
       "    <tr>\n",
       "      <th>4518</th>\n",
       "      <td>75</td>\n",
       "      <td>retired</td>\n",
       "      <td>divorced</td>\n",
       "      <td>tertiary</td>\n",
       "      <td>no</td>\n",
       "      <td>3810</td>\n",
       "      <td>yes</td>\n",
       "      <td>no</td>\n",
       "      <td>cellular</td>\n",
       "      <td>16</td>\n",
       "      <td>nov</td>\n",
       "      <td>262</td>\n",
       "      <td>1</td>\n",
       "      <td>183</td>\n",
       "      <td>1</td>\n",
       "      <td>failure</td>\n",
       "      <td>yes</td>\n",
       "    </tr>\n",
       "    <tr>\n",
       "      <th>4519</th>\n",
       "      <td>36</td>\n",
       "      <td>management</td>\n",
       "      <td>single</td>\n",
       "      <td>secondary</td>\n",
       "      <td>no</td>\n",
       "      <td>1511</td>\n",
       "      <td>yes</td>\n",
       "      <td>no</td>\n",
       "      <td>cellular</td>\n",
       "      <td>16</td>\n",
       "      <td>nov</td>\n",
       "      <td>270</td>\n",
       "      <td>1</td>\n",
       "      <td>-1</td>\n",
       "      <td>0</td>\n",
       "      <td>unknown</td>\n",
       "      <td>yes</td>\n",
       "    </tr>\n",
       "    <tr>\n",
       "      <th>4520</th>\n",
       "      <td>25</td>\n",
       "      <td>technician</td>\n",
       "      <td>single</td>\n",
       "      <td>secondary</td>\n",
       "      <td>no</td>\n",
       "      <td>505</td>\n",
       "      <td>no</td>\n",
       "      <td>yes</td>\n",
       "      <td>cellular</td>\n",
       "      <td>17</td>\n",
       "      <td>nov</td>\n",
       "      <td>386</td>\n",
       "      <td>2</td>\n",
       "      <td>-1</td>\n",
       "      <td>0</td>\n",
       "      <td>unknown</td>\n",
       "      <td>yes</td>\n",
       "    </tr>\n",
       "  </tbody>\n",
       "</table>\n",
       "<p>4521 rows × 17 columns</p>\n",
       "</div>"
      ],
      "text/plain": [
       "      age           job   marital  education default  balance housing loan  \\\n",
       "0      42  entrepreneur  divorced   tertiary     yes        2     yes   no   \n",
       "1      43    technician    single  secondary      no      593     yes   no   \n",
       "2      57      services   married  secondary      no      162     yes   no   \n",
       "3      57    technician   married  secondary      no      839      no  yes   \n",
       "4      59   blue-collar   married  secondary      no        0     yes   no   \n",
       "...   ...           ...       ...        ...     ...      ...     ...  ...   \n",
       "4516   35    technician   married  secondary      no        0     yes   no   \n",
       "4517   36        admin.    single   tertiary      no      980      no   no   \n",
       "4518   75       retired  divorced   tertiary      no     3810     yes   no   \n",
       "4519   36    management    single  secondary      no     1511     yes   no   \n",
       "4520   25    technician    single  secondary      no      505      no  yes   \n",
       "\n",
       "       contact  day month  duration  campaign  pdays  previous poutcome    y  \n",
       "0      unknown    5   may       380         1     -1         0  unknown   no  \n",
       "1      unknown    5   may        55         1     -1         0  unknown   no  \n",
       "2      unknown    5   may       174         1     -1         0  unknown   no  \n",
       "3      unknown    5   may       225         1     -1         0  unknown   no  \n",
       "4      unknown    5   may       226         1     -1         0  unknown   no  \n",
       "...        ...  ...   ...       ...       ...    ...       ...      ...  ...  \n",
       "4516  cellular    9   nov       524         1     96         5  success  yes  \n",
       "4517  cellular   11   nov       118         4    104         7  failure   no  \n",
       "4518  cellular   16   nov       262         1    183         1  failure  yes  \n",
       "4519  cellular   16   nov       270         1     -1         0  unknown  yes  \n",
       "4520  cellular   17   nov       386         2     -1         0  unknown  yes  \n",
       "\n",
       "[4521 rows x 17 columns]"
      ]
     },
     "execution_count": 43,
     "metadata": {},
     "output_type": "execute_result"
    }
   ],
   "source": [
    "# All of the rows inside df_test seems to be also inside the df_train\n",
    "duplicates = pd.merge(df_train, df_test, how='inner')\n",
    "duplicates"
   ]
  },
  {
   "cell_type": "code",
   "execution_count": 44,
   "id": "0dfa7dfd-acbf-47c6-8913-fb7f09ae0133",
   "metadata": {},
   "outputs": [
    {
     "name": "stdout",
     "output_type": "stream",
     "text": [
      "+ Unique values in age: [58 44 33 47 35 28 42 43 41 29 53 57 51 45 60 56 32 25 40 39 52 46 36 49\n",
      " 59 37 50 54 55 48 24 38 31 30 27 34 23 26 61 22 21 20 66 62 83 75 67 70\n",
      " 65 68 64 69 72 71 19 76 85 63 90 82 73 74 78 80 94 79 77 86 95 81 18 89\n",
      " 84 87 92 93 88]\n",
      "+ Unique values in job: ['management' 'technician' 'entrepreneur' 'blue-collar' 'unknown'\n",
      " 'retired' 'admin.' 'services' 'self-employed' 'unemployed' 'housemaid'\n",
      " 'student']\n",
      "+ Unique values in marital: ['married' 'single' 'divorced']\n",
      "+ Unique values in education: ['tertiary' 'secondary' 'unknown' 'primary']\n",
      "+ Unique values in default: ['no' 'yes']\n",
      "+ Unique values in balance: [ 2143    29     2 ...  8205 14204 16353]\n",
      "+ Unique values in housing: ['yes' 'no']\n",
      "+ Unique values in loan: ['no' 'yes']\n",
      "+ Unique values in contact: ['unknown' 'cellular' 'telephone']\n",
      "+ Unique values in day: [ 5  6  7  8  9 12 13 14 15 16 19 20 21 23 26 27 28 29 30  2  3  4 11 17\n",
      " 18 24 25  1 10 22 31]\n",
      "+ Unique values in month: ['may' 'jun' 'jul' 'aug' 'oct' 'nov' 'dec' 'jan' 'feb' 'mar' 'apr' 'sep']\n",
      "+ Unique values in duration: [ 261  151   76 ... 1298 1246 1556]\n",
      "+ Unique values in campaign: [ 1  2  3  5  4  6  7  8  9 10 11 12 13 19 14 24 16 32 18 22 15 17 25 21\n",
      " 43 51 63 41 26 28 55 50 38 23 20 29 31 37 30 46 27 58 33 35 34 36 39 44]\n",
      "+ Unique values in pdays: [ -1 151 166  91  86 143 147  89 140 176 101 174 170 167 195 165 129 188\n",
      " 196 172 118 119 104 171 117 164 132 131 123 159 186 111 115 116 173 178\n",
      " 110 152  96 103 150 175 193 181 185 154 145 138 126 180 109 158 168  97\n",
      " 182 127 130 194 125 105 102  26 179  28 183 155 112 120 137 124 187 190\n",
      " 113 162 134 169 189   8 144 191 184 177   5  99 133  93  92  10 100 156\n",
      " 198 106 153 146 128   7 121 160 107  90  27 197 136 139 122 157 149 135\n",
      "  30 114  98 192 163  34  95 141  31 199  94 108  29 268 247 253 226 244\n",
      " 239 245 204 231 238 258 230 254 265  71 223 246 250 266 240 205 261 259\n",
      " 241 260 234 251 225 161 237 262 248 255 220 227 206 224 249 235 228 263\n",
      "   2 270 232 252 207 200 269 233 256 273 272 242 264 208 214 222 271 203\n",
      " 221 202 216 201 257 229 210 217  75 213  73  76 267 211 215  77 236  82\n",
      "   6 209 274   1 243 212 275  80 276   9 279  12 280  88 277  85  84 219\n",
      "  24  21 282  41 294  49 329 307 303 331 308 300  64 314 287 330 332 302\n",
      " 323 318 333  60 326 335 313 312 305 325 327 336 309 328 322  39 316 292\n",
      " 295 310 306 320 317 289  57 321 142 339 301 315 337 334 340 319  17  74\n",
      " 148 341 299 344 342 324 345 346 304 281 343 338  14 347  15 291 348 349\n",
      " 285 350 284  25 283 278  81   4  87  83  79  70  13 293  37  78  63  22\n",
      " 296 355  66  19  35 360 357 354 351 362 358 365 298 286 364 363  47 361\n",
      " 288 366 356 352 359 297 367 353 368  42 290  67 371 370 369  50  36 373\n",
      " 374 372 311 375 378  59 379  40  18  43  20  69  38 385  56  55  44 391\n",
      "  72 390  32  62 399 393  65 377 395 388 389 386  61 412 405 434 394 382\n",
      " 459 440 397 383  68 461 462 463 422  51 457 430 442 403 454 428 392 410\n",
      " 401 474 475 477 478  54 476 380 479  45  46 495  58  48 518  52 515 520\n",
      " 511 536 387 218  33 544 435 436 555 433 446 558 469 616 561 553 384 592\n",
      " 467 585 480 421 667 626 426 595 381 376 648 521 452 449 633 398  53 460\n",
      " 670 551 414 557 687 404 651 686 425 504 578 674 416 586 411 756 450 745\n",
      " 514 417 424 776 396 683 529 439 415 456 407 458 532 481 791 701 531 792\n",
      " 413 445 535 784 419 455 491 431 542 470 472 717 437   3 782 728 828 524\n",
      " 562 761 492 775 579 493 464 760 466 465 656 831 490 432 655 427 749 838\n",
      " 769 587 778 854 779 850 771 594 842 589 603 484 489 486 409 444 680 808\n",
      " 485 503 690 772 774 526 420 528 500 826 804 508 547 805 541 543 871 550\n",
      " 530]\n",
      "+ Unique values in previous: [  0   3   1   4   2  11  16   6   5  10  12   7  18   9  21   8  14  15\n",
      "  26  37  13  25  20  27  17  23  38  29  24  51 275  22  19  30  58  28\n",
      "  32  40  55  35  41]\n",
      "+ Unique values in poutcome: ['unknown' 'failure' 'other' 'success']\n",
      "+ Unique values in y: ['no' 'yes']\n"
     ]
    }
   ],
   "source": [
    "# Unique values in each column\n",
    "for col in df_train:\n",
    "    print(f'+ Unique values in {col}: {df_train[col].unique()}')"
   ]
  },
  {
   "cell_type": "code",
   "execution_count": 45,
   "id": "e1592167-0ffe-4be2-8719-e33938f0d55a",
   "metadata": {},
   "outputs": [
    {
     "data": {
      "text/plain": [
       "age            77\n",
       "job            12\n",
       "marital         3\n",
       "education       4\n",
       "default         2\n",
       "balance      7168\n",
       "housing         2\n",
       "loan            2\n",
       "contact         3\n",
       "day            31\n",
       "month          12\n",
       "duration     1573\n",
       "campaign       48\n",
       "pdays         559\n",
       "previous       41\n",
       "poutcome        4\n",
       "y               2\n",
       "dtype: int64"
      ]
     },
     "execution_count": 45,
     "metadata": {},
     "output_type": "execute_result"
    }
   ],
   "source": [
    "# Number of unique values\n",
    "df_train.nunique()"
   ]
  },
  {
   "cell_type": "code",
   "execution_count": 46,
   "id": "0b3fce28-374d-4910-9f4a-99c08e7d4135",
   "metadata": {},
   "outputs": [],
   "source": [
    "# Merge train and test dataset and Drop Duplicate row \n",
    "merge_train_test = pd.concat([df_train, df_test])\n",
    "new_df = merge_train_test.drop_duplicates()\n",
    "# new_df"
   ]
  },
  {
   "cell_type": "code",
   "execution_count": 47,
   "id": "b7f98c6f-0972-4cb1-8565-e3b7ae7f661a",
   "metadata": {},
   "outputs": [
    {
     "data": {
      "text/plain": [
       "y\n",
       "no     39922\n",
       "yes     5289\n",
       "Name: count, dtype: int64"
      ]
     },
     "execution_count": 47,
     "metadata": {},
     "output_type": "execute_result"
    }
   ],
   "source": [
    "# Number of yes and no in the response feature, only around 12% yes out of all\n",
    "counts = new_df['y'].value_counts()\n",
    "counts"
   ]
  },
  {
   "cell_type": "markdown",
   "id": "01f5d080-046d-47f7-ab9f-41e0d66c9777",
   "metadata": {},
   "source": [
    "# Split Data"
   ]
  },
  {
   "cell_type": "code",
   "execution_count": 48,
   "id": "30a58a77-f724-4192-8939-87fc255df4e1",
   "metadata": {},
   "outputs": [],
   "source": [
    "X = new_df.iloc[:,:16]\n",
    "y = new_df.iloc[:,16]\n",
    "\n",
    "X_train, X_temp, y_train, y_temp = train_test_split(X,y, random_state=42, test_size=0.2, stratify=y)\n",
    "\n",
    "X_test, X_val, y_test, y_val = train_test_split(X_temp,y_temp, random_state=42, test_size=0.5, stratify=y_temp)"
   ]
  },
  {
   "cell_type": "markdown",
   "id": "3585d2ff-8981-4d53-a8bb-87456a371be2",
   "metadata": {},
   "source": [
    "# Data Preprocessing"
   ]
  },
  {
   "cell_type": "code",
   "execution_count": 49,
   "id": "0626653e-a7ee-4dcd-aa6d-6f17a7cd66a2",
   "metadata": {},
   "outputs": [],
   "source": [
    "numeric_features = ['age','balance','day','duration','campaign','pdays','previous']\n",
    "\n",
    "numeric_transformer = Pipeline(\n",
    "    steps=[\n",
    "        (\"scaler\", StandardScaler())\n",
    "    ]\n",
    ")\n",
    "\n",
    "categorical_features = ['job','marital','education','default','housing',\n",
    "                        'loan','contact','month','poutcome']\n",
    "\n",
    "categorical_transformer = Pipeline(\n",
    "    steps=[\n",
    "        (\"encoder\", OneHotEncoder()),\n",
    "    ]\n",
    ")\n",
    "\n",
    "preprocessor = ColumnTransformer(\n",
    "    transformers=[\n",
    "        (\"num\", numeric_transformer, numeric_features),\n",
    "        (\"cat\", categorical_transformer, categorical_features),\n",
    "    ]\n",
    ")\n",
    "\n",
    "# Fit and transform the training data and transform the val and test data\n",
    "X_train_transformed = preprocessor.fit_transform(X_train)\n",
    "X_val_transformed = preprocessor.transform(X_val)\n",
    "X_test_transformed = preprocessor.transform(X_test)"
   ]
  },
  {
   "cell_type": "code",
   "execution_count": 50,
   "id": "acf2a684-bad1-4d04-b355-77ddc38fa878",
   "metadata": {},
   "outputs": [
    {
     "name": "stdout",
     "output_type": "stream",
     "text": [
      "0.11698186241981863\n",
      "0.11698363555948696\n",
      "0.11700951117009512\n"
     ]
    },
    {
     "data": {
      "text/plain": [
       "array(['no', 'yes'], dtype=object)"
      ]
     },
     "execution_count": 50,
     "metadata": {},
     "output_type": "execute_result"
    }
   ],
   "source": [
    "# Encode labels\n",
    "label_encoder = LabelEncoder()\n",
    "y_train = label_encoder.fit_transform(y_train)\n",
    "y_val = label_encoder.transform(y_val)\n",
    "y_test = label_encoder.transform(y_test)\n",
    "\n",
    "# Percentages of yes in each of train, val, test dataset\n",
    "print(sum(y_train)/len(y_train))\n",
    "print(sum(y_val)/len(y_val))\n",
    "print(sum(y_test)/len(y_test))\n",
    "\n",
    "label_names = label_encoder.classes_\n",
    "label_names"
   ]
  },
  {
   "cell_type": "markdown",
   "id": "857763d6-74b9-4028-bb9d-f644e5700534",
   "metadata": {},
   "source": [
    "# Models Assessment with default hyperparameters:"
   ]
  },
  {
   "cell_type": "code",
   "execution_count": 51,
   "id": "007d9255-0506-4905-94ce-e6c9055e3e72",
   "metadata": {},
   "outputs": [],
   "source": [
    "kfold = StratifiedKFold(n_splits=10, shuffle=True, random_state=42)"
   ]
  },
  {
   "cell_type": "markdown",
   "id": "07120c01-cb54-43e1-9aa5-1175b2ede042",
   "metadata": {},
   "source": [
    "## DecisionTree"
   ]
  },
  {
   "cell_type": "code",
   "execution_count": 52,
   "id": "adfd482a-dcde-4761-93a7-9ed79410e1f9",
   "metadata": {},
   "outputs": [
    {
     "name": "stdout",
     "output_type": "stream",
     "text": [
      "0.4846140175635726\n"
     ]
    }
   ],
   "source": [
    "decisiontreeclf = DecisionTreeClassifier()\n",
    "# print(decisiontreeclf.get_params())\n",
    "\n",
    "print(cross_val_score(decisiontreeclf, X_train_transformed, y_train, cv=kfold, scoring='f1').mean())"
   ]
  },
  {
   "cell_type": "markdown",
   "id": "81c8a3ad-c3d0-4301-bbcb-98b89f960c60",
   "metadata": {},
   "source": [
    "## RandomForest"
   ]
  },
  {
   "cell_type": "code",
   "execution_count": 53,
   "id": "d24eb3cb-ea17-4c53-b2d4-ff41427821eb",
   "metadata": {},
   "outputs": [
    {
     "name": "stdout",
     "output_type": "stream",
     "text": [
      "0.4890709520954391\n"
     ]
    }
   ],
   "source": [
    "randomforestclf = RandomForestClassifier()\n",
    "# print(randomforestclf.get_params())\n",
    "\n",
    "print(cross_val_score(randomforestclf, X_train_transformed, y_train, cv=kfold, scoring='f1').mean())"
   ]
  },
  {
   "cell_type": "markdown",
   "id": "d95403da-bcf4-4021-b9cb-1107b3d9629d",
   "metadata": {},
   "source": [
    "## AdaBoost"
   ]
  },
  {
   "cell_type": "code",
   "execution_count": 54,
   "id": "8ddd1f73-f560-4453-998d-14229b452402",
   "metadata": {},
   "outputs": [
    {
     "name": "stdout",
     "output_type": "stream",
     "text": [
      "0.4270184107361099\n"
     ]
    }
   ],
   "source": [
    "adaclf = AdaBoostClassifier(algorithm=\"SAMME\")\n",
    "# print(adaclf.get_params())\n",
    "\n",
    "print(cross_val_score(adaclf, X_train_transformed, y_train, cv=kfold, scoring='f1').mean())"
   ]
  },
  {
   "cell_type": "markdown",
   "id": "28521b53-dffd-4f0e-afbb-aedb8d9e88d0",
   "metadata": {},
   "source": [
    "## GradientBoosting"
   ]
  },
  {
   "cell_type": "code",
   "execution_count": 55,
   "id": "aa38a45c-e679-4962-86f7-8b6d48f87279",
   "metadata": {},
   "outputs": [
    {
     "name": "stdout",
     "output_type": "stream",
     "text": [
      "0.5089385103541033\n"
     ]
    }
   ],
   "source": [
    "gbclf = GradientBoostingClassifier()\n",
    "# print(gbclf.get_params())\n",
    "\n",
    "print(cross_val_score(gbclf, X_train_transformed, y_train, cv=kfold, scoring='f1').mean())"
   ]
  },
  {
   "cell_type": "markdown",
   "id": "0d604561-2755-465c-99bd-e7fc20c94719",
   "metadata": {},
   "source": [
    "## XGBoost"
   ]
  },
  {
   "cell_type": "code",
   "execution_count": 56,
   "id": "6537341a-a370-462d-a3c0-b336a5dde23e",
   "metadata": {},
   "outputs": [
    {
     "name": "stdout",
     "output_type": "stream",
     "text": [
      "0.5567000077176639\n"
     ]
    }
   ],
   "source": [
    "xgbclf = xgb.XGBClassifier()\n",
    "# print(xgbclf.get_params())\n",
    "\n",
    "print(cross_val_score(xgbclf, X_train_transformed, y_train, cv=kfold, scoring='f1').mean())"
   ]
  },
  {
   "cell_type": "markdown",
   "id": "d473ae7b-c2c6-4c5c-b70a-03ebea91681a",
   "metadata": {},
   "source": [
    "# Preliminary XGBoost Model:"
   ]
  },
  {
   "cell_type": "code",
   "execution_count": 57,
   "id": "91221c26-dea4-4981-a700-dcd0f4b94c9a",
   "metadata": {},
   "outputs": [
    {
     "name": "stdout",
     "output_type": "stream",
     "text": [
      "[0]\tvalidation_0-aucpr:0.56060\tvalidation_1-aucpr:0.53469\n",
      "[1]\tvalidation_0-aucpr:0.59625\tvalidation_1-aucpr:0.54518\n",
      "[2]\tvalidation_0-aucpr:0.61789\tvalidation_1-aucpr:0.56162\n",
      "[3]\tvalidation_0-aucpr:0.63357\tvalidation_1-aucpr:0.56959\n",
      "[4]\tvalidation_0-aucpr:0.64069\tvalidation_1-aucpr:0.56812\n",
      "[5]\tvalidation_0-aucpr:0.65551\tvalidation_1-aucpr:0.57236\n",
      "[6]\tvalidation_0-aucpr:0.65972\tvalidation_1-aucpr:0.57662\n",
      "[7]\tvalidation_0-aucpr:0.66694\tvalidation_1-aucpr:0.58079\n",
      "[8]\tvalidation_0-aucpr:0.67399\tvalidation_1-aucpr:0.57892\n",
      "[9]\tvalidation_0-aucpr:0.67839\tvalidation_1-aucpr:0.57867\n",
      "[10]\tvalidation_0-aucpr:0.68692\tvalidation_1-aucpr:0.58347\n",
      "[11]\tvalidation_0-aucpr:0.69097\tvalidation_1-aucpr:0.58902\n",
      "[12]\tvalidation_0-aucpr:0.69527\tvalidation_1-aucpr:0.59121\n",
      "[13]\tvalidation_0-aucpr:0.70142\tvalidation_1-aucpr:0.59527\n",
      "[14]\tvalidation_0-aucpr:0.71210\tvalidation_1-aucpr:0.59929\n",
      "[15]\tvalidation_0-aucpr:0.71592\tvalidation_1-aucpr:0.60144\n",
      "[16]\tvalidation_0-aucpr:0.72177\tvalidation_1-aucpr:0.60219\n",
      "[17]\tvalidation_0-aucpr:0.72801\tvalidation_1-aucpr:0.59899\n",
      "[18]\tvalidation_0-aucpr:0.73084\tvalidation_1-aucpr:0.59918\n",
      "[19]\tvalidation_0-aucpr:0.73732\tvalidation_1-aucpr:0.60574\n",
      "[20]\tvalidation_0-aucpr:0.74173\tvalidation_1-aucpr:0.60343\n",
      "[21]\tvalidation_0-aucpr:0.74634\tvalidation_1-aucpr:0.60677\n",
      "[22]\tvalidation_0-aucpr:0.74807\tvalidation_1-aucpr:0.60771\n",
      "[23]\tvalidation_0-aucpr:0.75058\tvalidation_1-aucpr:0.60998\n",
      "[24]\tvalidation_0-aucpr:0.75675\tvalidation_1-aucpr:0.61501\n",
      "[25]\tvalidation_0-aucpr:0.76025\tvalidation_1-aucpr:0.61345\n",
      "[26]\tvalidation_0-aucpr:0.76379\tvalidation_1-aucpr:0.61465\n",
      "[27]\tvalidation_0-aucpr:0.76536\tvalidation_1-aucpr:0.61704\n",
      "[28]\tvalidation_0-aucpr:0.76607\tvalidation_1-aucpr:0.61628\n",
      "[29]\tvalidation_0-aucpr:0.76739\tvalidation_1-aucpr:0.61512\n",
      "[30]\tvalidation_0-aucpr:0.77026\tvalidation_1-aucpr:0.61447\n",
      "[31]\tvalidation_0-aucpr:0.77524\tvalidation_1-aucpr:0.61835\n",
      "[32]\tvalidation_0-aucpr:0.77684\tvalidation_1-aucpr:0.61718\n",
      "[33]\tvalidation_0-aucpr:0.78252\tvalidation_1-aucpr:0.62149\n",
      "[34]\tvalidation_0-aucpr:0.78547\tvalidation_1-aucpr:0.61898\n",
      "[35]\tvalidation_0-aucpr:0.79180\tvalidation_1-aucpr:0.62104\n",
      "[36]\tvalidation_0-aucpr:0.79480\tvalidation_1-aucpr:0.62206\n",
      "[37]\tvalidation_0-aucpr:0.79493\tvalidation_1-aucpr:0.62205\n",
      "[38]\tvalidation_0-aucpr:0.79855\tvalidation_1-aucpr:0.61981\n",
      "[39]\tvalidation_0-aucpr:0.79960\tvalidation_1-aucpr:0.62116\n",
      "[40]\tvalidation_0-aucpr:0.80093\tvalidation_1-aucpr:0.62072\n",
      "[41]\tvalidation_0-aucpr:0.80223\tvalidation_1-aucpr:0.62277\n",
      "[42]\tvalidation_0-aucpr:0.80381\tvalidation_1-aucpr:0.62189\n",
      "[43]\tvalidation_0-aucpr:0.80689\tvalidation_1-aucpr:0.62146\n",
      "[44]\tvalidation_0-aucpr:0.81086\tvalidation_1-aucpr:0.62364\n",
      "[45]\tvalidation_0-aucpr:0.81326\tvalidation_1-aucpr:0.62396\n",
      "[46]\tvalidation_0-aucpr:0.81648\tvalidation_1-aucpr:0.62358\n",
      "[47]\tvalidation_0-aucpr:0.81905\tvalidation_1-aucpr:0.62088\n",
      "[48]\tvalidation_0-aucpr:0.81954\tvalidation_1-aucpr:0.62018\n",
      "[49]\tvalidation_0-aucpr:0.81989\tvalidation_1-aucpr:0.61971\n",
      "[50]\tvalidation_0-aucpr:0.82125\tvalidation_1-aucpr:0.61913\n",
      "[51]\tvalidation_0-aucpr:0.82283\tvalidation_1-aucpr:0.61843\n",
      "[52]\tvalidation_0-aucpr:0.82340\tvalidation_1-aucpr:0.61890\n",
      "[53]\tvalidation_0-aucpr:0.82407\tvalidation_1-aucpr:0.61921\n",
      "[54]\tvalidation_0-aucpr:0.82494\tvalidation_1-aucpr:0.62061\n"
     ]
    }
   ],
   "source": [
    "xgbclf1 = xgb.XGBClassifier(\n",
    "    objective=\"binary:logistic\",\n",
    "    seed=42,\n",
    "    eval_metric=\"aucpr\",\n",
    "    n_estimators=200,\n",
    "    early_stopping_rounds=10,\n",
    "    tree_method='exact',\n",
    "    booster='gbtree',\n",
    ")\n",
    "\n",
    "model1 = xgbclf1.fit(\n",
    "    X_train_transformed,\n",
    "    y_train,\n",
    "    eval_set=[(X_train_transformed, y_train), (X_val_transformed, y_val)],\n",
    "    verbose=True,\n",
    ")"
   ]
  },
  {
   "cell_type": "code",
   "execution_count": 58,
   "id": "6e76a970-608c-4dd9-a64f-908de19a3861",
   "metadata": {},
   "outputs": [
    {
     "data": {
      "text/plain": [
       "<sklearn.metrics._plot.confusion_matrix.ConfusionMatrixDisplay at 0x2a7ad546ea0>"
      ]
     },
     "execution_count": 58,
     "metadata": {},
     "output_type": "execute_result"
    },
    {
     "data": {
      "image/png": "[encoded data removed]",
      "text/plain": [
       "<Figure size 640x480 with 2 Axes>"
      ]
     },
     "metadata": {},
     "output_type": "display_data"
    }
   ],
   "source": [
    "predictions = model1.predict(X_test_transformed)\n",
    "cm = confusion_matrix(y_test, predictions)\n",
    "disp = ConfusionMatrixDisplay(confusion_matrix=cm,display_labels=['Will not subscribe', 'Will subscribe'])\n",
    "disp.plot()"
   ]
  },
  {
   "cell_type": "markdown",
   "id": "55dcaf08-3185-4665-b208-5013ed1ae2d2",
   "metadata": {},
   "source": [
    "# Hyperparameters tuning"
   ]
  },
  {
   "cell_type": "code",
   "execution_count": 59,
   "id": "e6621038-5691-46d1-92c4-83fc2a365a6f",
   "metadata": {},
   "outputs": [],
   "source": [
    "# Round One\n",
    "# param_grid = {\n",
    "#     'max_depth': [3, 4, 5],\n",
    "#     'learning_rate': [0.1, 0.01, 0.05],\n",
    "#     'gamma': [0, 0.25, 1],\n",
    "#     'reg_lambda': [0, 1, 10],\n",
    "#     'scale_pos_weight': [1, 3, 5],\n",
    "# }\n",
    "\n",
    "# Round Twos\n",
    "# param_grid = {\n",
    "#     'max_depth': [5,7,9],\n",
    "#     'learning_rate': [0.1, 0.3, 0.5],\n",
    "#     'gamma': [0.25],\n",
    "#     'reg_lambda': [0, 0.25, 0.5],\n",
    "#     'scale_pos_weight': [3],\n",
    "# }\n",
    "\n",
    "# grid_search = GridSearchCV(\n",
    "#     estimator=xgb.XGBClassifier(\n",
    "#                                 objective='binary:logistic',\n",
    "#                                 seed=42,\n",
    "#                                 # subsample=0.9,\n",
    "#                                 # colsample_bytree=0.5,\n",
    "#                                 early_stopping_rounds=10,\n",
    "#                                 eval_metric='auc',\n",
    "#                                ),\n",
    "#     param_grid=param_grid,\n",
    "#     scoring='roc_auc',\n",
    "#     cv=kfold,  \n",
    "#     verbose=0\n",
    "# )\n",
    "\n",
    "# grid_search.fit(X_train_transformed,\n",
    "#                 y_train,\n",
    "#                 eval_set=[(X_val_transformed, y_val)],\n",
    "#                 verbose=False\n",
    "#                )\n",
    "\n",
    "# print(\"Best hyperparameters: \", grid_search.best_params_)"
   ]
  },
  {
   "cell_type": "code",
   "execution_count": 60,
   "id": "8bf8df90-31b2-4ab9-bd57-73c55b7e43b6",
   "metadata": {},
   "outputs": [],
   "source": [
    "# with subsample and colsample_bytree\n",
    "# {'gamma': 0, 'learning_rate': 0.1, 'max_depth': 5, 'reg_lambda': 0, 'scale_pos_weight': 3}\n",
    "# {'gamma': 0, 'learning_rate': 0.1, 'max_depth': 5, 'reg_lambda': 0.25, 'scale_pos_weight': 3}\n",
    "\n",
    "# without subsample and colsample_bytree\n",
    "# {'gamma': 0.25, 'learning_rate': 0.1, 'max_depth': 5, 'reg_lambda': 0, 'scale_pos_weight': 3}\n",
    "# {'gamma': 0.25, 'learning_rate': 0.1, 'max_depth': 7, 'reg_lambda': 0.25, 'scale_pos_weight': 3}"
   ]
  },
  {
   "cell_type": "code",
   "execution_count": 61,
   "id": "7690a29b-f227-4869-9f73-17fe64f9f121",
   "metadata": {},
   "outputs": [
    {
     "name": "stdout",
     "output_type": "stream",
     "text": [
      "[0]\tvalidation_0-aucpr:0.59447\tvalidation_1-aucpr:0.54044\n",
      "[1]\tvalidation_0-aucpr:0.62396\tvalidation_1-aucpr:0.57054\n",
      "[2]\tvalidation_0-aucpr:0.63509\tvalidation_1-aucpr:0.57129\n",
      "[3]\tvalidation_0-aucpr:0.64262\tvalidation_1-aucpr:0.58001\n",
      "[4]\tvalidation_0-aucpr:0.64765\tvalidation_1-aucpr:0.58127\n",
      "[5]\tvalidation_0-aucpr:0.65234\tvalidation_1-aucpr:0.58136\n",
      "[6]\tvalidation_0-aucpr:0.65937\tvalidation_1-aucpr:0.58996\n",
      "[7]\tvalidation_0-aucpr:0.66371\tvalidation_1-aucpr:0.59008\n",
      "[8]\tvalidation_0-aucpr:0.66643\tvalidation_1-aucpr:0.59037\n",
      "[9]\tvalidation_0-aucpr:0.66843\tvalidation_1-aucpr:0.59095\n",
      "[10]\tvalidation_0-aucpr:0.67133\tvalidation_1-aucpr:0.59144\n",
      "[11]\tvalidation_0-aucpr:0.67415\tvalidation_1-aucpr:0.59503\n",
      "[12]\tvalidation_0-aucpr:0.67837\tvalidation_1-aucpr:0.59839\n",
      "[13]\tvalidation_0-aucpr:0.68140\tvalidation_1-aucpr:0.60096\n",
      "[14]\tvalidation_0-aucpr:0.68593\tvalidation_1-aucpr:0.60250\n",
      "[15]\tvalidation_0-aucpr:0.68947\tvalidation_1-aucpr:0.60409\n",
      "[16]\tvalidation_0-aucpr:0.69404\tvalidation_1-aucpr:0.60246\n",
      "[17]\tvalidation_0-aucpr:0.69634\tvalidation_1-aucpr:0.60465\n",
      "[18]\tvalidation_0-aucpr:0.69810\tvalidation_1-aucpr:0.60429\n",
      "[19]\tvalidation_0-aucpr:0.70070\tvalidation_1-aucpr:0.60717\n",
      "[20]\tvalidation_0-aucpr:0.70322\tvalidation_1-aucpr:0.60606\n",
      "[21]\tvalidation_0-aucpr:0.70627\tvalidation_1-aucpr:0.60547\n",
      "[22]\tvalidation_0-aucpr:0.70967\tvalidation_1-aucpr:0.60797\n",
      "[23]\tvalidation_0-aucpr:0.71246\tvalidation_1-aucpr:0.60962\n",
      "[24]\tvalidation_0-aucpr:0.71607\tvalidation_1-aucpr:0.61136\n",
      "[25]\tvalidation_0-aucpr:0.71935\tvalidation_1-aucpr:0.61129\n",
      "[26]\tvalidation_0-aucpr:0.72247\tvalidation_1-aucpr:0.61527\n",
      "[27]\tvalidation_0-aucpr:0.72559\tvalidation_1-aucpr:0.61764\n",
      "[28]\tvalidation_0-aucpr:0.72896\tvalidation_1-aucpr:0.61909\n",
      "[29]\tvalidation_0-aucpr:0.73159\tvalidation_1-aucpr:0.62066\n",
      "[30]\tvalidation_0-aucpr:0.73490\tvalidation_1-aucpr:0.62177\n",
      "[31]\tvalidation_0-aucpr:0.73736\tvalidation_1-aucpr:0.62330\n",
      "[32]\tvalidation_0-aucpr:0.73979\tvalidation_1-aucpr:0.62418\n",
      "[33]\tvalidation_0-aucpr:0.74247\tvalidation_1-aucpr:0.62539\n",
      "[34]\tvalidation_0-aucpr:0.74394\tvalidation_1-aucpr:0.62465\n",
      "[35]\tvalidation_0-aucpr:0.74605\tvalidation_1-aucpr:0.62507\n",
      "[36]\tvalidation_0-aucpr:0.74931\tvalidation_1-aucpr:0.62543\n",
      "[37]\tvalidation_0-aucpr:0.75191\tvalidation_1-aucpr:0.62500\n",
      "[38]\tvalidation_0-aucpr:0.75380\tvalidation_1-aucpr:0.62547\n",
      "[39]\tvalidation_0-aucpr:0.75746\tvalidation_1-aucpr:0.62943\n",
      "[40]\tvalidation_0-aucpr:0.76031\tvalidation_1-aucpr:0.63058\n",
      "[41]\tvalidation_0-aucpr:0.76291\tvalidation_1-aucpr:0.63035\n",
      "[42]\tvalidation_0-aucpr:0.76484\tvalidation_1-aucpr:0.63081\n",
      "[43]\tvalidation_0-aucpr:0.76709\tvalidation_1-aucpr:0.63077\n",
      "[44]\tvalidation_0-aucpr:0.76924\tvalidation_1-aucpr:0.63148\n",
      "[45]\tvalidation_0-aucpr:0.77109\tvalidation_1-aucpr:0.63213\n",
      "[46]\tvalidation_0-aucpr:0.77527\tvalidation_1-aucpr:0.63234\n",
      "[47]\tvalidation_0-aucpr:0.77724\tvalidation_1-aucpr:0.63186\n",
      "[48]\tvalidation_0-aucpr:0.78025\tvalidation_1-aucpr:0.63355\n",
      "[49]\tvalidation_0-aucpr:0.78174\tvalidation_1-aucpr:0.63400\n",
      "[50]\tvalidation_0-aucpr:0.78443\tvalidation_1-aucpr:0.63580\n",
      "[51]\tvalidation_0-aucpr:0.78627\tvalidation_1-aucpr:0.63561\n",
      "[52]\tvalidation_0-aucpr:0.78780\tvalidation_1-aucpr:0.63752\n",
      "[53]\tvalidation_0-aucpr:0.79067\tvalidation_1-aucpr:0.63787\n",
      "[54]\tvalidation_0-aucpr:0.79300\tvalidation_1-aucpr:0.63787\n",
      "[55]\tvalidation_0-aucpr:0.79518\tvalidation_1-aucpr:0.63923\n",
      "[56]\tvalidation_0-aucpr:0.79681\tvalidation_1-aucpr:0.63928\n",
      "[57]\tvalidation_0-aucpr:0.79893\tvalidation_1-aucpr:0.63936\n",
      "[58]\tvalidation_0-aucpr:0.80039\tvalidation_1-aucpr:0.63848\n",
      "[59]\tvalidation_0-aucpr:0.80261\tvalidation_1-aucpr:0.63711\n",
      "[60]\tvalidation_0-aucpr:0.80377\tvalidation_1-aucpr:0.63669\n",
      "[61]\tvalidation_0-aucpr:0.80573\tvalidation_1-aucpr:0.63751\n",
      "[62]\tvalidation_0-aucpr:0.80710\tvalidation_1-aucpr:0.63741\n",
      "[63]\tvalidation_0-aucpr:0.80861\tvalidation_1-aucpr:0.63790\n",
      "[64]\tvalidation_0-aucpr:0.80943\tvalidation_1-aucpr:0.63904\n",
      "[65]\tvalidation_0-aucpr:0.81069\tvalidation_1-aucpr:0.63908\n",
      "[66]\tvalidation_0-aucpr:0.81276\tvalidation_1-aucpr:0.64031\n",
      "[67]\tvalidation_0-aucpr:0.81386\tvalidation_1-aucpr:0.64087\n",
      "[68]\tvalidation_0-aucpr:0.81545\tvalidation_1-aucpr:0.64029\n",
      "[69]\tvalidation_0-aucpr:0.81836\tvalidation_1-aucpr:0.64091\n",
      "[70]\tvalidation_0-aucpr:0.81974\tvalidation_1-aucpr:0.64223\n",
      "[71]\tvalidation_0-aucpr:0.82049\tvalidation_1-aucpr:0.64239\n",
      "[72]\tvalidation_0-aucpr:0.82225\tvalidation_1-aucpr:0.64139\n",
      "[73]\tvalidation_0-aucpr:0.82266\tvalidation_1-aucpr:0.64177\n",
      "[74]\tvalidation_0-aucpr:0.82431\tvalidation_1-aucpr:0.64278\n",
      "[75]\tvalidation_0-aucpr:0.82508\tvalidation_1-aucpr:0.64377\n",
      "[76]\tvalidation_0-aucpr:0.82613\tvalidation_1-aucpr:0.64312\n",
      "[77]\tvalidation_0-aucpr:0.82844\tvalidation_1-aucpr:0.64509\n",
      "[78]\tvalidation_0-aucpr:0.82968\tvalidation_1-aucpr:0.64463\n",
      "[79]\tvalidation_0-aucpr:0.83023\tvalidation_1-aucpr:0.64560\n",
      "[80]\tvalidation_0-aucpr:0.83120\tvalidation_1-aucpr:0.64693\n",
      "[81]\tvalidation_0-aucpr:0.83222\tvalidation_1-aucpr:0.64725\n",
      "[82]\tvalidation_0-aucpr:0.83365\tvalidation_1-aucpr:0.64638\n",
      "[83]\tvalidation_0-aucpr:0.83429\tvalidation_1-aucpr:0.64589\n",
      "[84]\tvalidation_0-aucpr:0.83442\tvalidation_1-aucpr:0.64574\n",
      "[85]\tvalidation_0-aucpr:0.83630\tvalidation_1-aucpr:0.64480\n",
      "[86]\tvalidation_0-aucpr:0.83718\tvalidation_1-aucpr:0.64471\n",
      "[87]\tvalidation_0-aucpr:0.83774\tvalidation_1-aucpr:0.64500\n",
      "[88]\tvalidation_0-aucpr:0.83798\tvalidation_1-aucpr:0.64484\n",
      "[89]\tvalidation_0-aucpr:0.83915\tvalidation_1-aucpr:0.64586\n",
      "[90]\tvalidation_0-aucpr:0.84018\tvalidation_1-aucpr:0.64509\n"
     ]
    }
   ],
   "source": [
    "xgbclf2 = xgb.XGBClassifier(\n",
    "    objective='binary:logistic',\n",
    "    seed=42,\n",
    "    eval_metric='aucpr',\n",
    "    n_estimators=200,\n",
    "    early_stopping_rounds=10,\n",
    "    tree_method='exact',\n",
    "    booster='gbtree',\n",
    "    gamma=0.25,\n",
    "    learning_rate=0.1,\n",
    "    max_depth=7,\n",
    "    reg_lambda=0.25,\n",
    "    scale_pos_weight=3,\n",
    ")\n",
    "\n",
    "model2 = xgbclf2.fit(X_train_transformed,\n",
    "          y_train,\n",
    "          eval_set=[(X_train_transformed, y_train), (X_val_transformed, y_val)],\n",
    "          verbose=True        \n",
    ")"
   ]
  },
  {
   "cell_type": "code",
   "execution_count": 62,
   "id": "ec6403a2-c249-4c69-b5a1-b9cc6fe990a5",
   "metadata": {},
   "outputs": [
    {
     "data": {
      "text/plain": [
       "<sklearn.metrics._plot.confusion_matrix.ConfusionMatrixDisplay at 0x2a7ac46faa0>"
      ]
     },
     "execution_count": 62,
     "metadata": {},
     "output_type": "execute_result"
    },
    {
     "data": {
      "image/png": "[encoded data removed]",
      "text/plain": [
       "<Figure size 640x480 with 2 Axes>"
      ]
     },
     "metadata": {},
     "output_type": "display_data"
    }
   ],
   "source": [
    "predictions = model2.predict(X_test_transformed)\n",
    "cm = confusion_matrix(y_test, predictions)\n",
    "disp = ConfusionMatrixDisplay(confusion_matrix=cm,display_labels=['Will not subscribe', 'Will subscribe'])\n",
    "disp.plot()"
   ]
  },
  {
   "cell_type": "markdown",
   "id": "c82e2a56-3fa6-42d8-8d9a-e8426d42c8ac",
   "metadata": {},
   "source": [
    "## Feature Importance"
   ]
  },
  {
   "cell_type": "code",
   "execution_count": 63,
   "id": "92a7cd3f-e454-4976-a3a0-14b39f2d9d37",
   "metadata": {},
   "outputs": [
    {
     "data": {
      "image/png": "[encoded data removed]",
      "text/plain": [
       "<Figure size 3000x1000 with 1 Axes>"
      ]
     },
     "metadata": {},
     "output_type": "display_data"
    }
   ],
   "source": [
    "# All Feature names \n",
    "feature_names  = preprocessor.get_feature_names_out().tolist()\n",
    "\n",
    "# Importance score for each feature\n",
    "importance_score = model2.feature_importances_\n",
    "# model2.get_booster().get_score(importance_type= 'gain')\n",
    "\n",
    "# Zip and sort\n",
    "res = dict(zip(feature_names, importance_score))\n",
    "sorted_by_values = sorted(res.items(), key=lambda x:x[1])\n",
    "\n",
    "# Top 10 features\n",
    "n = 10\n",
    "top_n_features = sorted_by_values[-n:]\n",
    "data = dict(top_n_features)\n",
    "names = list(data.keys())\n",
    "values = list(data.values())\n",
    "fig, ax = plt.subplots(figsize=(30, 10))\n",
    "plt.bar(range(len(data)), values, tick_label=names)\n",
    "plt.show()"
   ]
  },
  {
   "cell_type": "code",
   "execution_count": 64,
   "id": "cbef7b18",
   "metadata": {},
   "outputs": [
    {
     "data": {
      "text/html": [
       "<div>\n",
       "<style scoped>\n",
       "    .dataframe tbody tr th:only-of-type {\n",
       "        vertical-align: middle;\n",
       "    }\n",
       "\n",
       "    .dataframe tbody tr th {\n",
       "        vertical-align: top;\n",
       "    }\n",
       "\n",
       "    .dataframe thead th {\n",
       "        text-align: right;\n",
       "    }\n",
       "</style>\n",
       "<table border=\"1\" class=\"dataframe\">\n",
       "  <thead>\n",
       "    <tr style=\"text-align: right;\">\n",
       "      <th>y</th>\n",
       "      <th>no</th>\n",
       "      <th>yes</th>\n",
       "    </tr>\n",
       "    <tr>\n",
       "      <th>poutcome</th>\n",
       "      <th></th>\n",
       "      <th></th>\n",
       "    </tr>\n",
       "  </thead>\n",
       "  <tbody>\n",
       "    <tr>\n",
       "      <th>failure</th>\n",
       "      <td>4283</td>\n",
       "      <td>618</td>\n",
       "    </tr>\n",
       "    <tr>\n",
       "      <th>other</th>\n",
       "      <td>1533</td>\n",
       "      <td>307</td>\n",
       "    </tr>\n",
       "    <tr>\n",
       "      <th>success</th>\n",
       "      <td>533</td>\n",
       "      <td>978</td>\n",
       "    </tr>\n",
       "    <tr>\n",
       "      <th>unknown</th>\n",
       "      <td>33573</td>\n",
       "      <td>3386</td>\n",
       "    </tr>\n",
       "  </tbody>\n",
       "</table>\n",
       "</div>"
      ],
      "text/plain": [
       "y            no   yes\n",
       "poutcome             \n",
       "failure    4283   618\n",
       "other      1533   307\n",
       "success     533   978\n",
       "unknown   33573  3386"
      ]
     },
     "execution_count": 64,
     "metadata": {},
     "output_type": "execute_result"
    }
   ],
   "source": [
    "contingency_table = pd.crosstab(new_df.poutcome, new_df.y, margins= False)\n",
    "contingency_table"
   ]
  },
  {
   "cell_type": "code",
   "execution_count": 65,
   "id": "ef031487",
   "metadata": {},
   "outputs": [
    {
     "data": {
      "image/png": "[encoded data removed]",
      "text/plain": [
       "<Figure size 640x480 with 1 Axes>"
      ]
     },
     "metadata": {},
     "output_type": "display_data"
    }
   ],
   "source": [
    "contingency_table.plot(kind='bar', color={'yes': 'blue', 'no': 'orange'}, stacked=True ,rot=0, \n",
    "                xlabel='Previous Outcome', ylabel='Number of Outcomes', title='Previous outcome and outcome')\n",
    "plt.legend(title='Outcome')\n",
    "plt.show()"
   ]
  },
  {
   "cell_type": "markdown",
   "id": "acea8c3b",
   "metadata": {},
   "source": [
    "# Final Evaluation"
   ]
  },
  {
   "cell_type": "code",
   "execution_count": 66,
   "id": "596b645c",
   "metadata": {},
   "outputs": [
    {
     "name": "stdout",
     "output_type": "stream",
     "text": [
      "Accuracy: 0.9086485290864853\n",
      "Precision: 0.6518324607329843\n",
      "Recall: 0.4706994328922495\n",
      "F1 Score: 0.5466520307354555\n"
     ]
    }
   ],
   "source": [
    "y_pred = xgbclf1.predict(X_test_transformed)\n",
    "\n",
    "accuracy = accuracy_score(y_test, y_pred)\n",
    "precision = precision_score(y_test, y_pred)\n",
    "recall = recall_score(y_test, y_pred)\n",
    "f1 = f1_score(y_test, y_pred)\n",
    "\n",
    "print(f\"Accuracy: {accuracy}\")\n",
    "print(f\"Precision: {precision}\")\n",
    "print(f\"Recall: {recall}\")\n",
    "print(f\"F1 Score: {f1}\")"
   ]
  },
  {
   "cell_type": "code",
   "execution_count": 67,
   "id": "cb010043",
   "metadata": {},
   "outputs": [
    {
     "name": "stdout",
     "output_type": "stream",
     "text": [
      "Accuracy: 0.8984737889847378\n",
      "Precision: 0.5497159090909091\n",
      "Recall: 0.7315689981096408\n",
      "F1 Score: 0.6277372262773723\n"
     ]
    }
   ],
   "source": [
    "y_pred = xgbclf2.predict(X_test_transformed)\n",
    "\n",
    "accuracy = accuracy_score(y_test, y_pred)\n",
    "precision = precision_score(y_test, y_pred)\n",
    "recall = recall_score(y_test, y_pred)\n",
    "f1 = f1_score(y_test, y_pred)\n",
    "\n",
    "print(f\"Accuracy: {accuracy}\")\n",
    "print(f\"Precision: {precision}\")\n",
    "print(f\"Recall: {recall}\")\n",
    "print(f\"F1 Score: {f1}\")"
   ]
  },
  {
   "cell_type": "markdown",
   "id": "09243e01",
   "metadata": {},
   "source": [
    "# Serialization "
   ]
  },
  {
   "cell_type": "code",
   "execution_count": 68,
   "id": "ee25bd6d",
   "metadata": {},
   "outputs": [],
   "source": [
    "# xgbclfout = Pipeline(\n",
    "#     steps=[\n",
    "#         ('preprocessor', preprocessor),\n",
    "#         ('model', model2)\n",
    "#     ]\n",
    "# )\n",
    "\n",
    "# joblib.dump(xgbclfout, \"my_model.pkl\")"
   ]
  }
 ],
 "metadata": {
  "kernelspec": {
   "display_name": "Python 3",
   "language": "python",
   "name": "python3"
  },
  "language_info": {
   "codemirror_mode": {
    "name": "ipython",
    "version": 3
   },
   "file_extension": ".py",
   "mimetype": "text/x-python",
   "name": "python",
   "nbconvert_exporter": "python",
   "pygments_lexer": "ipython3",
   "version": "3.12.6"
  }
 },
 "nbformat": 4,
 "nbformat_minor": 5
}
